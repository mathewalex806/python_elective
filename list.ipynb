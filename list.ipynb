{
 "cells": [
  {
   "cell_type": "code",
   "execution_count": 21,
   "metadata": {},
   "outputs": [
    {
     "name": "stdout",
     "output_type": "stream",
     "text": [
      "695015\n",
      "['MDL22CS026', 'alex', 'trivandrum', 695015, '1234567890']\n",
      "MDL22CS026 alex\n",
      "4\n",
      "67890\n",
      "['1234567890', 695015, 'trivandrum', 'alex', 'MDL22CS026']\n"
     ]
    },
    {
     "data": {
      "text/plain": [
       "3"
      ]
     },
     "execution_count": 21,
     "metadata": {},
     "output_type": "execute_result"
    }
   ],
   "source": [
    "l =[]\n",
    "l +=[13]\n",
    "l.append(\"alex\")\n",
    "l.extend([\"trivandrum\",695015,\"1234567890\"])\n",
    "print(l[3])\n",
    "l[0] = \"MDL22CS026\"\n",
    "print(l)\n",
    "print(l[0],l[1])\n",
    "print(len(l[1]))\n",
    "print(l[4][-5:])\n",
    "l.reverse()\n",
    "print(l)\n",
    "l.index(\"alex\")"
   ]
  },
  {
   "cell_type": "code",
   "execution_count": 29,
   "metadata": {},
   "outputs": [
    {
     "name": "stdout",
     "output_type": "stream",
     "text": [
      "Enter 5 numbers:\n",
      "\n",
      "[4, 5, 6, 7, 8]\n",
      "[4, 6, 8] \n",
      " [5, 7]\n"
     ]
    }
   ],
   "source": [
    "print(\"Enter 5 numbers:\\n\")\n",
    "l = []\n",
    "prime = []\n",
    "composite = []\n",
    "\n",
    "for i in range(0, 5):\n",
    "    l.append(int(input()))\n",
    "\n",
    "print(l)\n",
    "for i in l:\n",
    "    flag = True \n",
    "    if i < 2: \n",
    "        continue\n",
    "\n",
    "    for j in range(2, (int)(i / 2) + 1): \n",
    "        if i % j == 0:\n",
    "            flag = False\n",
    "            composite.append(i)\n",
    "            break\n",
    "\n",
    "    if flag:\n",
    "        prime.append(i)\n",
    "\n",
    "print(composite, \"\\n\", prime)\n"
   ]
  },
  {
   "cell_type": "code",
   "execution_count": 36,
   "metadata": {},
   "outputs": [
    {
     "name": "stdout",
     "output_type": "stream",
     "text": [
      "Enter the names of 5 students\n",
      "\n",
      "['Micheal ', 'Jim', 'Ted', 'Aaron', 'Raj']\n",
      "['Aaron', 'Jim', 'Micheal ', 'Raj', 'Ted']\n",
      "\n",
      "Name with the Largest Length: Micheal \n",
      "Aaron\n",
      "['Ted', 'Raj', 'Micheal ', 'Jim', 'Aaron']\n",
      "\n",
      "Names Sorted by Length: ['Ted', 'Raj', 'Jim', 'Aaron', 'Micheal ']\n"
     ]
    }
   ],
   "source": [
    "print(\"Enter the names of 5 students\\n\")\n",
    "l=[]\n",
    "for i in range(0,5):\n",
    "    l.append(input())\n",
    "print(l)\n",
    "l.sort()\n",
    "print(l)\n",
    "longest_name = max(l, key=len)\n",
    "print(\"\\nName with the Largest Length:\", longest_name)\n",
    "\n",
    "for i in l:\n",
    "    if i and i[0]== 'A':\n",
    "        print(i)\n",
    "\n",
    "l.sort()\n",
    "l.reverse()\n",
    "print(l)\n",
    "\n",
    "sorted_by_length = sorted(l, key=len)\n",
    "print(\"\\nNames Sorted by Length:\", sorted_by_length)\n"
   ]
  },
  {
   "cell_type": "code",
   "execution_count": 38,
   "metadata": {},
   "outputs": [
    {
     "name": "stdout",
     "output_type": "stream",
     "text": [
      "[1, 3, 9, 27, 81, 243, 729, 2187, 6561, 19683, 59049, 177147, 531441, 1594323, 4782969, 14348907, 43046721, 129140163, 387420489, 1162261467]\n",
      "[0, 3, 6, 9, 12, 15, 18, 21, 24, 27, 30, 33, 36, 39, 42, 45, 48, 51, 54, 57, 60, 63, 66, 69, 72, 75, 78, 81, 84, 87, 90, 93, 96, 99]\n"
     ]
    }
   ],
   "source": [
    "l=[]\n",
    "for i in range(0,20):\n",
    "    l.append(3**i)\n",
    "print(l)\n",
    "\n",
    "p=[]\n",
    "for i in range(0,101):\n",
    "    if i%3==0:\n",
    "        p.append(i)\n",
    "print(p)"
   ]
  },
  {
   "cell_type": "code",
   "execution_count": 43,
   "metadata": {},
   "outputs": [
    {
     "name": "stdout",
     "output_type": "stream",
     "text": [
      "Enter 10 elements\n",
      "\n",
      "[1, 2, 3, 4, 5, 6, 7, 8, 9, 0]\n",
      "0 9\n",
      "4.5\n"
     ]
    }
   ],
   "source": [
    "print(\"Enter 10 elements\\n\")\n",
    "l=[]\n",
    "for i in range(0,10):\n",
    "    l.append(int(input()))\n",
    "print(l)\n",
    "l.sort()\n",
    "print(l[0],l[len(l)-1])\n",
    "sum=0\n",
    "for i in l:\n",
    "    sum+=i\n",
    "avg = sum/len(l)\n",
    "print(avg)\n",
    "\n"
   ]
  },
  {
   "cell_type": "code",
   "execution_count": 45,
   "metadata": {},
   "outputs": [
    {
     "name": "stdout",
     "output_type": "stream",
     "text": [
      "Integers: [10, 42, 99]\n",
      "Floats: [3.14, 2.71, 7.5]\n",
      "Strings: ['apple', 'banana', 'cherry']\n",
      "Integers not sorted\n",
      "Float not sorted\n",
      "Strings not sorted\n"
     ]
    }
   ],
   "source": [
    "mixed_list = [10, \"apple\", 3.14, 42, \"banana\", 2.71, \"cherry\", 99, 7.5]\n",
    "\n",
    "integers = [x for x in mixed_list if type(x) == int]\n",
    "floats = [x for x in mixed_list if type(x) == float]\n",
    "strings = [x for x in mixed_list if type(x) == str]\n",
    "\n",
    "\n",
    "print(\"Integers:\", integers)\n",
    "print(\"Floats:\", floats)\n",
    "print(\"Strings:\", strings)\n",
    "\n",
    "if integers != integers.sort():\n",
    "    print(\"Integers not sorted\")\n",
    "if floats != floats.sort():\n",
    "    print(\"Float not sorted\")\n",
    "if strings != strings.sort():\n",
    "    print(\"Strings not sorted\")"
   ]
  },
  {
   "cell_type": "code",
   "execution_count": 50,
   "metadata": {},
   "outputs": [
    {
     "name": "stdout",
     "output_type": "stream",
     "text": [
      "[10, 20, 30, 40]\n"
     ]
    }
   ],
   "source": [
    "l = [10, 20, 20, 30, 40]\n",
    "i = 0\n",
    "while i < len(l):\n",
    "    j = i + 1\n",
    "    while j < len(l):\n",
    "        if l[i] == l[j]:\n",
    "            l.remove(l[j])\n",
    "        else:\n",
    "            j += 1\n",
    "    i += 1\n",
    "\n",
    "print(l)"
   ]
  },
  {
   "cell_type": "code",
   "execution_count": null,
   "metadata": {},
   "outputs": [],
   "source": []
  },
  {
   "cell_type": "code",
   "execution_count": null,
   "metadata": {},
   "outputs": [],
   "source": []
  },
  {
   "cell_type": "code",
   "execution_count": null,
   "metadata": {},
   "outputs": [],
   "source": []
  },
  {
   "cell_type": "code",
   "execution_count": null,
   "metadata": {},
   "outputs": [],
   "source": []
  },
  {
   "cell_type": "code",
   "execution_count": null,
   "metadata": {},
   "outputs": [],
   "source": []
  },
  {
   "cell_type": "code",
   "execution_count": null,
   "metadata": {},
   "outputs": [],
   "source": []
  }
 ],
 "metadata": {
  "kernelspec": {
   "display_name": "Python 3",
   "language": "python",
   "name": "python3"
  },
  "language_info": {
   "codemirror_mode": {
    "name": "ipython",
    "version": 3
   },
   "file_extension": ".py",
   "mimetype": "text/x-python",
   "name": "python",
   "nbconvert_exporter": "python",
   "pygments_lexer": "ipython3",
   "version": "3.12.7"
  }
 },
 "nbformat": 4,
 "nbformat_minor": 2
}

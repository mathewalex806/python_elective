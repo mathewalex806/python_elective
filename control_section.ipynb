{
 "cells": [
  {
   "cell_type": "code",
   "execution_count": 1,
   "metadata": {},
   "outputs": [
    {
     "name": "stdout",
     "output_type": "stream",
     "text": [
      "+x^1/1!-x^3/3!"
     ]
    }
   ],
   "source": [
    "n = int(input(\"Enter N : \"))\n",
    "signkeeper = True\n",
    "for i in range(1,n+1):\n",
    "    i = (2*i - 1)\n",
    "    if(i>n):\n",
    "        break\n",
    "    sign = '+' if signkeeper else '-'\n",
    "    signkeeper = False if signkeeper else True\n",
    "    print(\"{sign}x^{arg1}/{arg2}!\".format(sign = sign , arg1 = i , arg2 = i),end='')"
   ]
  },
  {
   "cell_type": "code",
   "execution_count": 2,
   "metadata": {},
   "outputs": [
    {
     "name": "stdout",
     "output_type": "stream",
     "text": [
      "Result :-6.666666666666666\n"
     ]
    }
   ],
   "source": [
    "import math\n",
    "signkeeper = True\n",
    "result = 0\n",
    "x = int(input(\"Enter X : \"))\n",
    "for i in range(1,n+1):\n",
    "    i = (2*i - 1)\n",
    "    if(i>n):\n",
    "        break\n",
    "    if(signkeeper):\n",
    "        result = result + (x**i/math.factorial(i))\n",
    "    else:\n",
    "        result = result - (x**i/math.factorial(i))\n",
    "    signkeeper = False if signkeeper else True\n",
    "print(\"Result :\" + str(result))\n",
    "    "
   ]
  },
  {
   "cell_type": "code",
   "execution_count": 3,
   "metadata": {},
   "outputs": [
    {
     "name": "stdout",
     "output_type": "stream",
     "text": [
      "* \n",
      "* * \n",
      "* * * \n",
      "* * * * \n",
      "1 \n",
      "1 2 \n",
      "1 2 3 \n",
      "1 2 3 4 \n"
     ]
    }
   ],
   "source": [
    "n = int(input(\"Enter N : \"))\n",
    "for i in range(1,n+1):\n",
    "    for j in range(0,i):\n",
    "        print(\"*\",end=\" \")\n",
    "    print()\n",
    "for i in range(1,n+1):\n",
    "    for j in range(0,i):\n",
    "        print(j+1,end=\" \")\n",
    "    print()"
   ]
  },
  {
   "cell_type": "code",
   "execution_count": 4,
   "metadata": {},
   "outputs": [
    {
     "name": "stdout",
     "output_type": "stream",
     "text": [
      "['4']\n",
      "largest number is at position 1\n"
     ]
    }
   ],
   "source": [
    "num = input(\"Enter number : \")\n",
    "numlist = []\n",
    "for c in num:\n",
    "    numlist.append(c)\n",
    "largest = 0\n",
    "for i in range(0,len(numlist)):\n",
    "    if(int(numlist[i])>int(numlist[largest])):\n",
    "        largest = i\n",
    "print(numlist)\n",
    "print(\"largest number is at position \" + str(largest+1))\n"
   ]
  },
  {
   "cell_type": "code",
   "execution_count": 5,
   "metadata": {},
   "outputs": [
    {
     "name": "stdout",
     "output_type": "stream",
     "text": [
      "7 is an Armstrong number\n"
     ]
    }
   ],
   "source": [
    "num = input(\"Enter number : \")\n",
    "numlist = []\n",
    "for c in num:\n",
    "    numlist.append(c)\n",
    "digits = len(numlist)\n",
    "result = 0\n",
    "for d in numlist:\n",
    "    result = result + int(d)**digits\n",
    "if(result == int(num)):\n",
    "    print(num + \" is an Armstrong number\")\n",
    "else:\n",
    "    print(num + \" is not an Armstrong number\")\n"
   ]
  },
  {
   "cell_type": "code",
   "execution_count": 6,
   "metadata": {},
   "outputs": [
    {
     "name": "stdout",
     "output_type": "stream",
     "text": [
      "square root with of 55 is 7.416198487095663\n"
     ]
    }
   ],
   "source": [
    "def newton(N, y=1, itr=100):\n",
    "    x = y\n",
    "    for i in range(itr):\n",
    "        x = 0.5 * (x + N/x)\n",
    "    return x\n",
    "print(\"square root with of 55 is \" + str(newton(55)))"
   ]
  },
  {
   "cell_type": "code",
   "execution_count": 8,
   "metadata": {},
   "outputs": [
    {
     "name": "stdout",
     "output_type": "stream",
     "text": [
      "year\tstarting balance\tinterest\tending balance\n",
      "1\t5000.00\t\t250.00\t\t5250.00\n",
      "2\t5250.00\t\t262.50\t\t5512.50\n",
      "3\t5512.50\t\t275.62\t\t5788.12\n",
      "4\t5788.12\t\t289.41\t\t6077.53\n",
      "5\t6077.53\t\t303.88\t\t6381.41\n",
      "Ending Balance : 6381.4078125\n",
      "Total Interest Earned : 1381.4078125\n"
     ]
    }
   ],
   "source": [
    "init_amt = float(input(\"Initial amount : \"))\n",
    "years = int(input(\"Period (years) : \"))\n",
    "intrest_percent = int(input(\"Interest : \"))\n",
    "print(\"year\\tstarting balance\\tinterest\\tending balance\")\n",
    "sum_int = 0\n",
    "for i in range(1,years+1):\n",
    "    print(i,end=\"\\t\")\n",
    "    print(format(init_amt,\".2f\"),end=\"\\t\\t\")\n",
    "    interest = init_amt/100 * intrest_percent\n",
    "    print(format(interest,\".2f\"),end=\"\\t\\t\")\n",
    "    init_amt = init_amt + interest\n",
    "    print(format(init_amt,\".2f\"))\n",
    "    sum_int = sum_int + interest\n",
    "print(\"Ending Balance : \" + str(init_amt))\n",
    "print(\"Total Interest Earned : \"+str(sum_int))"
   ]
  },
  {
   "cell_type": "code",
   "execution_count": 9,
   "metadata": {},
   "outputs": [
    {
     "name": "stdout",
     "output_type": "stream",
     "text": [
      "6 is not a Krishnamurthy Number\n"
     ]
    }
   ],
   "source": [
    "num = input(\"Enter number : \")\n",
    "numlist = []\n",
    "for c in num:\n",
    "    numlist.append(c)\n",
    "sumc = 0\n",
    "\n",
    "for n in numlist:\n",
    "    sumc = sumc + math.factorial(int(n))\n",
    "\n",
    "if(sumc == int(num)):\n",
    "    print(num + \" is a Krishnamurthy Number\")\n",
    "else:\n",
    "    print(num + \" is not a Krishnamurthy Number\")"
   ]
  },
  {
   "cell_type": "code",
   "execution_count": 10,
   "metadata": {},
   "outputs": [
    {
     "name": "stdout",
     "output_type": "stream",
     "text": [
      "2 3 5 "
     ]
    }
   ],
   "source": [
    "n = int(input(\"Enter limit : \"))\n",
    "is_prime = True\n",
    "for i in range(2,n+1):\n",
    "    for j in range(2,n//2 +1):\n",
    "        if(i == j):\n",
    "            continue\n",
    "        if(i%j == 0):\n",
    "            is_prime = False\n",
    "    if(is_prime):\n",
    "        print(i , end=\" \")\n",
    "    is_prime = True"
   ]
  },
  {
   "cell_type": "code",
   "execution_count": 12,
   "metadata": {},
   "outputs": [
    {
     "name": "stdout",
     "output_type": "stream",
     "text": [
      "One Two Three Four \n"
     ]
    }
   ],
   "source": [
    "def stringifydigit(digit):\n",
    "    match digit:\n",
    "        case 0:\n",
    "            return \"Zero\"\n",
    "        case 1:\n",
    "            return \"One\"\n",
    "        case 2:\n",
    "            return \"Two\"\n",
    "        case 3:\n",
    "            return \"Three\"\n",
    "        case 4:\n",
    "            return \"Four\"\n",
    "        case 5:\n",
    "            return \"Five\"\n",
    "        case 6:\n",
    "            return \"Six\"\n",
    "        case 7:\n",
    "            return \"Seven\"\n",
    "        case 8:\n",
    "            return \"Eight\"\n",
    "        case 9:\n",
    "            return \"Nine\"\n",
    "        case default:\n",
    "            return \"Err\"\n",
    "\n",
    "n = input(\"Enter a number\")\n",
    "numlist = []\n",
    "for c in n:\n",
    "    numlist.append(c)\n",
    "\n",
    "for d in numlist:\n",
    "    print(stringifydigit(int(d)),end=\" \")\n",
    "print()"
   ]
  },
  {
   "cell_type": "code",
   "execution_count": null,
   "metadata": {},
   "outputs": [],
   "source": []
  }
 ],
 "metadata": {
  "kernelspec": {
   "display_name": "Python 3",
   "language": "python",
   "name": "python3"
  },
  "language_info": {
   "codemirror_mode": {
    "name": "ipython",
    "version": 3
   },
   "file_extension": ".py",
   "mimetype": "text/x-python",
   "name": "python",
   "nbconvert_exporter": "python",
   "pygments_lexer": "ipython3",
   "version": "3.12.7"
  }
 },
 "nbformat": 4,
 "nbformat_minor": 2
}

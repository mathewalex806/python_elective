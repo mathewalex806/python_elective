{
 "cells": [
  {
   "cell_type": "code",
   "execution_count": 7,
   "metadata": {},
   "outputs": [],
   "source": [
    "#printing sin series\n",
    "import math"
   ]
  },
  {
   "cell_type": "code",
   "execution_count": 8,
   "metadata": {},
   "outputs": [
    {
     "name": "stdout",
     "output_type": "stream",
     "text": [
      "-5.292658730158728\n"
     ]
    }
   ],
   "source": [
    "n = int(input(\"Enter the number of terms: \"))\n",
    "x = int(input(\"Enter the value of x: \"))\n",
    "sum=0\n",
    "for i in range(n):\n",
    "    sum = sum + (-1)**i * (math.pow(x,2*i +1)/math.factorial(2*i +1))\n",
    "\n",
    "print(sum)"
   ]
  },
  {
   "cell_type": "code",
   "execution_count": 12,
   "metadata": {},
   "outputs": [
    {
     "name": "stdout",
     "output_type": "stream",
     "text": [
      "1\n",
      "12\n",
      "123\n",
      "1234\n"
     ]
    }
   ],
   "source": [
    "#Printing pattern\n",
    "\n",
    "for i in range(1,5):\n",
    "    for j in range(1,i+1):\n",
    "        print(j,end=\"\")\n",
    "    print()\n"
   ]
  },
  {
   "cell_type": "code",
   "execution_count": 13,
   "metadata": {},
   "outputs": [
    {
     "name": "stdout",
     "output_type": "stream",
     "text": [
      "Year  1  :  10500.0\n",
      "Year  2  :  11025.0\n",
      "Year  3  :  11576.25\n",
      "Year  4  :  12155.0625\n",
      "Year  5  :  12762.815625\n",
      "Total amount:  12762.815625\n"
     ]
    }
   ],
   "source": [
    "#Calculating interest\n",
    "\n",
    "p = int(input(\"Enter the principal amount: \"))\n",
    "r = int(input(\"Enter the rate of interest: \"))\n",
    "t = int(input(\"Enter the time period: \"))\n",
    "\n",
    "for i in range(t):\n",
    "    p = p + p*r/100\n",
    "    print(\"Year \",i+1,\" : \",p)\n",
    "print(\"Total amount: \",p)\n",
    "    \n"
   ]
  },
  {
   "cell_type": "code",
   "execution_count": 15,
   "metadata": {},
   "outputs": [],
   "source": [
    "##krishnamurthy number\n",
    "num = int(input(\"Enter the number: \"))\n",
    "temp = num\n",
    "sum=0\n",
    "while temp>0:\n",
    "    digit = temp%10\n",
    "    sum = sum + math.factorial(digit)\n",
    "    temp = temp//10\n",
    "if sum == num:\n",
    "    print(\"Krishnamurthy number\")\n"
   ]
  },
  {
   "cell_type": "code",
   "execution_count": 30,
   "metadata": {},
   "outputs": [
    {
     "name": "stdout",
     "output_type": "stream",
     "text": [
      "Alex\n",
      "on Pr\n",
      "28\n",
      "Python Programming with \n",
      "on Programming with Alex\n",
      "10\n",
      "pYTHON pROGRAMMING WITH aLEX\n",
      "xelA htiw gnimmargorP nohtyP\n",
      "-1\n",
      "malayalam\n",
      "a\n",
      "racecar\n",
      ".\n"
     ]
    }
   ],
   "source": [
    "##String functions\n",
    "strg = \"Python Programming with Alex\"\n",
    "print(strg[-4:])\n",
    "print(strg[4:9])\n",
    "print(len(strg))\n",
    "print(strg[:-4])\n",
    "print(strg[4:])\n",
    "print(strg.find(\"gr\"))\n",
    "for i in strg:\n",
    "    if i.islower():\n",
    "        print(i.upper(),end=\"\")\n",
    "    elif i.isupper():\n",
    "        print(i.lower(),end=\"\")\n",
    "    else:\n",
    "        print(i,end=\"\")\n",
    "\n",
    "## reverse string\n",
    "print()\n",
    "print(strg[::-1])\n",
    "print(strg.find(\"z\"))\n",
    "\n",
    "strg = \"Python Programming with Alex. malayalam is a palindrome as well as racecar .\"\n",
    "l = strg.split()\n",
    "for i in l:\n",
    "    if i[::-1] == i:\n",
    "        print(i)\n"
   ]
  },
  {
   "cell_type": "code",
   "execution_count": 33,
   "metadata": {},
   "outputs": [
    {
     "name": "stdout",
     "output_type": "stream",
     "text": [
      "12\n"
     ]
    }
   ],
   "source": [
    "##Binary to decimal conversion\n",
    "bin = int(input(\"Enter a binary string\"))\n",
    "count=0\n",
    "dec =0\n",
    "while bin>0:\n",
    "    digit = bin%10\n",
    "    dec += digit*pow(2,count)\n",
    "    count+=1\n",
    "    bin = bin//10\n",
    "print(dec)\n"
   ]
  },
  {
   "cell_type": "code",
   "execution_count": null,
   "metadata": {},
   "outputs": [],
   "source": [
    "\"\"\"\n",
    "10. Write a Python program to check the validity of a password given by the user.\n",
    "\n",
    "The Password should satisfy the following criteria:\n",
    "\n",
    "1. Contains at least one letter between a and z\n",
    "\n",
    "2. Contains at least one number between 0 and 9\n",
    "\n",
    "3. Contains at least one letter between A and Z\n",
    "\n",
    "4. Contains at least one special character from $, #, @\n",
    "\n",
    "5.Minimum length of password: 8\n",
    "\n",
    "\"\"\"\n",
    "\n"
   ]
  },
  {
   "cell_type": "code",
   "execution_count": 9,
   "metadata": {},
   "outputs": [
    {
     "name": "stdout",
     "output_type": "stream",
     "text": [
      "['MDL22CS026', 13, 695015, 'Trivandrum', 'Alex']\n",
      "MDL22CS026 Alex\n",
      "4\n",
      "['Alex', 'Trivandrum', 695015, 13, 'MDL22CS026']\n"
     ]
    }
   ],
   "source": [
    "l=[]\n",
    "l.append(\"Alex\")\n",
    "l+=[13]\n",
    "l.extend([695015,\"Trivandrum\"])\n",
    "l[0] = \"MDL22CS026\"\n",
    "l.extend([\"Alex\"])\n",
    "print(l)\n",
    "print(l[0],l[len(l)-1])\n",
    "print(l.index(\"Alex\"))\n",
    "l.reverse()\n",
    "print(l)\n"
   ]
  },
  {
   "cell_type": "code",
   "execution_count": 15,
   "metadata": {},
   "outputs": [
    {
     "name": "stdout",
     "output_type": "stream",
     "text": [
      "['Aadithya', 'Alex', 'Arun', 'Rahul', 'Rajeev', 'Rajesh', 'Roy', 'Varun', 'Vishnu', 'Vivek']\n",
      "Aadithya\n"
     ]
    }
   ],
   "source": [
    "l=[\"Aadithya\",\"Alex\",\"Arun\",\"Varun\",\"Vishnu\",\"Vivek\",\"Roy\",\"Rahul\",\"Rajesh\",\"Rajeev\"]\n",
    "l.sort()\n",
    "print(l)\n",
    "max = 0\n",
    "for i in l:\n",
    "    if len(i)>max:\n",
    "        max = len(i)\n",
    "        name = i\n",
    "print(name)\n"
   ]
  },
  {
   "cell_type": "code",
   "execution_count": 16,
   "metadata": {},
   "outputs": [
    {
     "name": "stdout",
     "output_type": "stream",
     "text": [
      "[10, 20, 30, 40, 50, 60, 70, 80, 90]\n"
     ]
    }
   ],
   "source": [
    "l=[10,20,20,30,40,50,60,70,80,90]\n",
    "\n",
    "unique = []\n",
    "for i in l:\n",
    "    if i not in unique:\n",
    "        unique.append(i)\n",
    "print(unique)"
   ]
  },
  {
   "cell_type": "code",
   "execution_count": 21,
   "metadata": {},
   "outputs": [
    {
     "name": "stdout",
     "output_type": "stream",
     "text": [
      "{1, 2, 3, 4, 5, 6, 7, 8}\n",
      "{4, 5}\n",
      "{1, 2, 3}\n",
      "{8, 6, 7}\n"
     ]
    }
   ],
   "source": [
    "##Set operations\n",
    "s1 = {1,2,3,4,5}\n",
    "s2 = {4,5,6,7,8}\n",
    "\n",
    "print(s1.union(s2))\n",
    "print(s1.intersection(s2))\n",
    "print(s1.difference(s2))\n",
    "print(s2.difference(s1))"
   ]
  },
  {
   "cell_type": "code",
   "execution_count": 6,
   "metadata": {},
   "outputs": [
    {
     "name": "stdout",
     "output_type": "stream",
     "text": [
      "Hello World\n",
      "<class '_io.TextIOWrapper'>\n"
     ]
    }
   ],
   "source": [
    "\n",
    "\n",
    "f_open = open(\"test.txt\",\"w\")\n",
    "f_open.write(\"Hello World\")\n",
    "f_open = open(\"test.txt\",\"r\")\n",
    "print(f_open.read())\n",
    "print(type(f_open))\n",
    "\n"
   ]
  },
  {
   "cell_type": "code",
   "execution_count": 9,
   "metadata": {},
   "outputs": [
    {
     "name": "stdout",
     "output_type": "stream",
     "text": [
      "Hello World\n"
     ]
    }
   ],
   "source": [
    "f1 = open(\"test.txt\",\"r\")\n",
    "f2 = open(\"names.txt\",\"w\")\n",
    "f2.write(f1.read())\n",
    "f2 = open(\"names.txt\",\"r\")\n",
    "print(f2.read())"
   ]
  },
  {
   "cell_type": "code",
   "execution_count": 12,
   "metadata": {},
   "outputs": [
    {
     "name": "stdout",
     "output_type": "stream",
     "text": [
      "Hello, this is a test.\n",
      "\n",
      "\n",
      "\n",
      "This file has blank lines.\n",
      "\n",
      "\n",
      "\n",
      "Python is great.\n",
      "\n",
      "\n",
      "\n",
      "\n",
      "\n",
      "End of file.\n",
      "\n"
     ]
    }
   ],
   "source": [
    "output = open(\"output.txt\",\"w\") \n",
    "with open(\"names.txt\",\"r\") as f:\n",
    "    for line in f:\n",
    "        print(line)\n",
    "        if line != \"\\n\":\n",
    "            output.write(line)\n",
    "output.close()\n"
   ]
  },
  {
   "cell_type": "code",
   "execution_count": 24,
   "metadata": {},
   "outputs": [
    {
     "name": "stdout",
     "output_type": "stream",
     "text": [
      "['Hello,', 'this', 'is', 'a', 'test.', 'This', 'file', 'has', 'blank', 'lines.', 'Python', 'is', 'great.', 'End', 'of', 'file.']\n",
      "['End', 'Hello,', 'Python', 'This', 'a', 'blank', 'file', 'file.', 'great.', 'has', 'is', 'is', 'lines.', 'of', 'test.', 'this']\n"
     ]
    }
   ],
   "source": [
    "f1 = open(\"names.txt\",\"r\")\n",
    "words = f1.read().split()\n",
    "print(words)\n",
    "print(sorted(words))\n"
   ]
  },
  {
   "cell_type": "code",
   "execution_count": 27,
   "metadata": {},
   "outputs": [
    {
     "name": "stdout",
     "output_type": "stream",
     "text": [
      "[9, 8, 7, 6, 5, 4, 3, 2, 1]\n"
     ]
    }
   ],
   "source": [
    "f1 = open(\"new.txt\",\"r\")\n",
    "f2 = open(\"old.txt\",\"w\")\n",
    "num = f1.read().split()\n",
    "num2 = []\n",
    "for i in num:\n",
    "    if int(i) not in num2:\n",
    "        num2.append(int(i))\n",
    "print(num2)\n"
   ]
  },
  {
   "cell_type": "code",
   "execution_count": 29,
   "metadata": {},
   "outputs": [],
   "source": [
    "f1 = open(\"new.txt\",\"w\")\n",
    "f1.write(\"1|aswith|30|40|50\\n2|alex|40|50|60\\n3|arun|50|60|70\\n4|vishnu|60|70|80\\n5|vivek|70|80|90\\n6|roy|80|90|100\\n7|rahul|90|100|110\\n8|rajesh|100|110|120\\n9|rajeev|110|120|130\")\n",
    "f1.close()"
   ]
  },
  {
   "cell_type": "code",
   "execution_count": 31,
   "metadata": {},
   "outputs": [
    {
     "name": "stdout",
     "output_type": "stream",
     "text": [
      "['1', 'aswith', '30', '40', '50']\n",
      "['2', 'alex', '40', '50', '60']\n",
      "['3', 'arun', '50', '60', '70']\n",
      "['4', 'vishnu', '60', '70', '80']\n",
      "['5', 'vivek', '70', '80', '90']\n",
      "['6', 'roy', '80', '90', '100']\n",
      "['7', 'rahul', '90', '100', '110']\n",
      "['8', 'rajesh', '100', '110', '120']\n",
      "['9', 'rajeev', '110', '120', '130']\n"
     ]
    }
   ],
   "source": [
    "f1 = open(\"new.txt\",\"r\")\n",
    "words = f1.read().split(\"\\n\")\n",
    "for i in words:\n",
    "    record = i.split(\"|\")\n",
    "    print(record)"
   ]
  },
  {
   "cell_type": "code",
   "execution_count": 36,
   "metadata": {},
   "outputs": [
    {
     "name": "stdout",
     "output_type": "stream",
     "text": [
      "(8, 'Hannah')\n",
      "(9, 'Ivy')\n",
      "(10, 'Jack')\n",
      "(1, 'Alice')\n",
      "(2, 'Bob')\n",
      "{8: 'Hannah', 9: 'Ivy', 10: 'Jack', 1: 'Alice', 2: 'Bob'}\n",
      "['Hannah', 'Ivy', 'Jack', 'Alice', 'Bob']\n"
     ]
    }
   ],
   "source": [
    "d = {}\n",
    "students_list = [\n",
    "    (1, \"Alice\"), \n",
    "    (2, \"Bob\"), \n",
    "    (3, \"Charlie\"), \n",
    "    (4, \"David\"), \n",
    "    (5, \"Eve\"),\n",
    "    (6, \"Frank\"), \n",
    "    (7, \"Grace\"), \n",
    "    (8, \"Hannah\"), \n",
    "    (9, \"Ivy\"), \n",
    "    (10, \"Jack\")\n",
    "]\n",
    "\n",
    "start_index = 7\n",
    "for i in range (5):\n",
    "    print(students_list[start_index])\n",
    "    d[students_list[start_index][0]] = students_list[start_index][1]\n",
    "    start_index = (start_index+1) % len(students_list)\n",
    "    \n",
    "\n",
    "print(d)\n",
    "l = list(d.values())\n",
    "print(l)\n"
   ]
  },
  {
   "cell_type": "code",
   "execution_count": 37,
   "metadata": {},
   "outputs": [
    {
     "name": "stdout",
     "output_type": "stream",
     "text": [
      "{'P': 2, 'y': 1, 't': 2, 'h': 2, 'o': 2, 'n': 2, ' ': 3, 'r': 2, 'g': 2, 'a': 1, 'm': 2, 'i': 2, 'w': 1, 'A': 1, 'l': 1, 'e': 1, 'x': 1}\n"
     ]
    }
   ],
   "source": [
    "strg = \"Python Programming with Alex\"\n",
    "d = {}\n",
    "for i in strg:\n",
    "    if i in d:\n",
    "        d[i] += 1\n",
    "    else:\n",
    "        d[i] = 1\n",
    "print(d)\n"
   ]
  },
  {
   "cell_type": "code",
   "execution_count": 39,
   "metadata": {},
   "outputs": [
    {
     "name": "stdout",
     "output_type": "stream",
     "text": [
      "[1, 3, 5, 7, 9, 11, 13, 15, 17, 19, 21, 23, 25, 27, 29, 31, 33, 35, 37, 39, 41, 43, 45, 47, 49]\n"
     ]
    }
   ],
   "source": [
    "odd_number = lambda x: x%2!=0\n",
    "l = []\n",
    "for i in range (0,51):\n",
    "    if odd_number(i):\n",
    "        l.append(i)\n",
    "print(l)"
   ]
  },
  {
   "cell_type": "code",
   "execution_count": null,
   "metadata": {},
   "outputs": [],
   "source": []
  }
 ],
 "metadata": {
  "kernelspec": {
   "display_name": "venv",
   "language": "python",
   "name": "python3"
  },
  "language_info": {
   "codemirror_mode": {
    "name": "ipython",
    "version": 3
   },
   "file_extension": ".py",
   "mimetype": "text/x-python",
   "name": "python",
   "nbconvert_exporter": "python",
   "pygments_lexer": "ipython3",
   "version": "3.12.7"
  }
 },
 "nbformat": 4,
 "nbformat_minor": 2
}

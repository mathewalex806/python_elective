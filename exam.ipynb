{
 "cells": [
  {
   "cell_type": "code",
   "execution_count": 7,
   "metadata": {},
   "outputs": [],
   "source": [
    "#printing sin series\n",
    "import math"
   ]
  },
  {
   "cell_type": "code",
   "execution_count": 8,
   "metadata": {},
   "outputs": [
    {
     "name": "stdout",
     "output_type": "stream",
     "text": [
      "-5.292658730158728\n"
     ]
    }
   ],
   "source": [
    "n = int(input(\"Enter the number of terms: \"))\n",
    "x = int(input(\"Enter the value of x: \"))\n",
    "sum=0\n",
    "for i in range(n):\n",
    "    sum = sum + (-1)**i * (math.pow(x,2*i +1)/math.factorial(2*i +1))\n",
    "\n",
    "print(sum)"
   ]
  },
  {
   "cell_type": "code",
   "execution_count": 12,
   "metadata": {},
   "outputs": [
    {
     "name": "stdout",
     "output_type": "stream",
     "text": [
      "1\n",
      "12\n",
      "123\n",
      "1234\n"
     ]
    }
   ],
   "source": [
    "#Printing pattern\n",
    "\n",
    "for i in range(1,5):\n",
    "    for j in range(1,i+1):\n",
    "        print(j,end=\"\")\n",
    "    print()\n"
   ]
  },
  {
   "cell_type": "code",
   "execution_count": 13,
   "metadata": {},
   "outputs": [
    {
     "name": "stdout",
     "output_type": "stream",
     "text": [
      "Year  1  :  10500.0\n",
      "Year  2  :  11025.0\n",
      "Year  3  :  11576.25\n",
      "Year  4  :  12155.0625\n",
      "Year  5  :  12762.815625\n",
      "Total amount:  12762.815625\n"
     ]
    }
   ],
   "source": [
    "#Calculating interest\n",
    "\n",
    "p = int(input(\"Enter the principal amount: \"))\n",
    "r = int(input(\"Enter the rate of interest: \"))\n",
    "t = int(input(\"Enter the time period: \"))\n",
    "\n",
    "for i in range(t):\n",
    "    p = p + p*r/100\n",
    "    print(\"Year \",i+1,\" : \",p)\n",
    "print(\"Total amount: \",p)\n",
    "    \n"
   ]
  },
  {
   "cell_type": "code",
   "execution_count": 15,
   "metadata": {},
   "outputs": [],
   "source": [
    "##krishnamurthy number\n",
    "num = int(input(\"Enter the number: \"))\n",
    "temp = num\n",
    "sum=0\n",
    "while temp>0:\n",
    "    digit = temp%10\n",
    "    sum = sum + math.factorial(digit)\n",
    "    temp = temp//10\n",
    "if sum == num:\n",
    "    print(\"Krishnamurthy number\")\n"
   ]
  },
  {
   "cell_type": "code",
   "execution_count": 30,
   "metadata": {},
   "outputs": [
    {
     "name": "stdout",
     "output_type": "stream",
     "text": [
      "Alex\n",
      "on Pr\n",
      "28\n",
      "Python Programming with \n",
      "on Programming with Alex\n",
      "10\n",
      "pYTHON pROGRAMMING WITH aLEX\n",
      "xelA htiw gnimmargorP nohtyP\n",
      "-1\n",
      "malayalam\n",
      "a\n",
      "racecar\n",
      ".\n"
     ]
    }
   ],
   "source": [
    "##String functions\n",
    "strg = \"Python Programming with Alex\"\n",
    "print(strg[-4:])\n",
    "print(strg[4:9])\n",
    "print(len(strg))\n",
    "print(strg[:-4])\n",
    "print(strg[4:])\n",
    "print(strg.find(\"gr\"))\n",
    "for i in strg:\n",
    "    if i.islower():\n",
    "        print(i.upper(),end=\"\")\n",
    "    elif i.isupper():\n",
    "        print(i.lower(),end=\"\")\n",
    "    else:\n",
    "        print(i,end=\"\")\n",
    "\n",
    "## reverse string\n",
    "print()\n",
    "print(strg[::-1])\n",
    "print(strg.find(\"z\"))\n",
    "\n",
    "strg = \"Python Programming with Alex. malayalam is a palindrome as well as racecar .\"\n",
    "l = strg.split()\n",
    "for i in l:\n",
    "    if i[::-1] == i:\n",
    "        print(i)\n"
   ]
  },
  {
   "cell_type": "code",
   "execution_count": 33,
   "metadata": {},
   "outputs": [
    {
     "name": "stdout",
     "output_type": "stream",
     "text": [
      "12\n"
     ]
    }
   ],
   "source": [
    "##Binary to decimal conversion\n",
    "bin = int(input(\"Enter a binary string\"))\n",
    "count=0\n",
    "dec =0\n",
    "while bin>0:\n",
    "    digit = bin%10\n",
    "    dec += digit*pow(2,count)\n",
    "    count+=1\n",
    "    bin = bin//10\n",
    "print(dec)\n"
   ]
  },
  {
   "cell_type": "code",
   "execution_count": null,
   "metadata": {},
   "outputs": [],
   "source": []
  },
  {
   "cell_type": "code",
   "execution_count": null,
   "metadata": {},
   "outputs": [],
   "source": []
  },
  {
   "cell_type": "code",
   "execution_count": null,
   "metadata": {},
   "outputs": [],
   "source": []
  }
 ],
 "metadata": {
  "kernelspec": {
   "display_name": "venv",
   "language": "python",
   "name": "python3"
  },
  "language_info": {
   "codemirror_mode": {
    "name": "ipython",
    "version": 3
   },
   "file_extension": ".py",
   "mimetype": "text/x-python",
   "name": "python",
   "nbconvert_exporter": "python",
   "pygments_lexer": "ipython3",
   "version": "3.12.7"
  }
 },
 "nbformat": 4,
 "nbformat_minor": 2
}

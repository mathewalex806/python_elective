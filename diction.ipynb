{
 "cells": [
  {
   "cell_type": "code",
   "execution_count": 5,
   "metadata": {},
   "outputs": [
    {
     "name": "stdout",
     "output_type": "stream",
     "text": [
      "{0: 0, 1: 1, 2: 4, 3: 9, 4: 16, 5: 25, 6: 36, 7: 49, 8: 64, 9: 81, 10: 100, 11: 121, 12: 144, 13: 169, 14: 196, 15: 225}\n",
      "[0, 1, 4, 9, 16, 25, 36, 49, 64, 81, 100, 121, 144, 169, 196, 225]\n"
     ]
    }
   ],
   "source": [
    "\n",
    "d = {}\n",
    "for i in range (16):\n",
    "    d[i] = i**2\n",
    "print(d)\n",
    "l = list(d.values())\n",
    "print(l)\n"
   ]
  },
  {
   "cell_type": "code",
   "execution_count": 11,
   "metadata": {},
   "outputs": [
    {
     "name": "stdout",
     "output_type": "stream",
     "text": [
      "{1: 'John', 2: 'Doe', 3: 'Jane', 4: 'Smith', 5: 'Tom'}\n"
     ]
    }
   ],
   "source": [
    "r = int(input(\"Enter roll number: \"))\n",
    "d={\n",
    "    2: \"Doe\",\n",
    "    1: \"John\",\n",
    "    4: \"Smith\",\n",
    "    3: \"Jane\",\n",
    "    5: \"Tom\"\n",
    "}\n",
    "l = list(d.keys())\n",
    "l.sort()\n",
    "d = dict(zip(l, [d[i] for i in l]))\n",
    "print(d)"
   ]
  },
  {
   "cell_type": "code",
   "execution_count": 13,
   "metadata": {},
   "outputs": [
    {
     "name": "stdout",
     "output_type": "stream",
     "text": [
      "[1, 2, 3, 4, 5]\n"
     ]
    }
   ],
   "source": [
    "l2 = list(d.items())\n",
    "l2.sort()\n",
    "print(l)"
   ]
  },
  {
   "cell_type": "code",
   "execution_count": 20,
   "metadata": {},
   "outputs": [
    {
     "name": "stdout",
     "output_type": "stream",
     "text": [
      "1\n",
      "2\n",
      "3\n",
      "4\n",
      "5\n",
      "6\n",
      "{1: 200, 2: 300, 3: 400, 4: 500, 5: 600, 6: 70}\n"
     ]
    }
   ],
   "source": [
    "d1 = {1:20, 2:30, 3:40, 4:50, 5:60, 6:70}\n",
    "d2 = {1:200, 2:300, 3:400, 4:500, 5:600, 7:800 }\n",
    "\n",
    "\n",
    "for i in d1:\n",
    "    print(i)\n",
    "    if i in d2:\n",
    "        d1[i] = d2[i]\n",
    "print(d1)\n"
   ]
  },
  {
   "cell_type": "code",
   "execution_count": null,
   "metadata": {},
   "outputs": [],
   "source": []
  },
  {
   "cell_type": "code",
   "execution_count": null,
   "metadata": {},
   "outputs": [],
   "source": []
  },
  {
   "cell_type": "code",
   "execution_count": null,
   "metadata": {},
   "outputs": [],
   "source": []
  }
 ],
 "metadata": {
  "kernelspec": {
   "display_name": "venv",
   "language": "python",
   "name": "python3"
  },
  "language_info": {
   "codemirror_mode": {
    "name": "ipython",
    "version": 3
   },
   "file_extension": ".py",
   "mimetype": "text/x-python",
   "name": "python",
   "nbconvert_exporter": "python",
   "pygments_lexer": "ipython3",
   "version": "3.12.7"
  }
 },
 "nbformat": 4,
 "nbformat_minor": 2
}

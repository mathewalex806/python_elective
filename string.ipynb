{
 "cells": [
  {
   "cell_type": "code",
   "execution_count": 1,
   "metadata": {},
   "outputs": [],
   "source": [
    "import string"
   ]
  },
  {
   "cell_type": "code",
   "execution_count": 1,
   "metadata": {},
   "outputs": [],
   "source": [
    "str=\"Python Programming by Yourname\"\n",
    "str_input = input(\"Enter your name: \")\n",
    "str = str.replace(\"Yourname\",str_input)"
   ]
  },
  {
   "cell_type": "code",
   "execution_count": 3,
   "metadata": {},
   "outputs": [
    {
     "name": "stdout",
     "output_type": "stream",
     "text": [
      " Alex\n",
      "on Pr\n",
      "26\n",
      "Python Programming by \n",
      "on Programming by Alex\n",
      "10\n"
     ]
    }
   ],
   "source": [
    "##String Slicing\n",
    "print(str[-5:])\n",
    "print(str[4:9])\n",
    "print(len(str))\n",
    "min(str)\n",
    "max(str)\n",
    "print(str[:-4])\n",
    "print(str[4:])\n",
    "print(str.find(\"gr\"))"
   ]
  },
  {
   "cell_type": "code",
   "execution_count": 4,
   "metadata": {},
   "outputs": [
    {
     "name": "stdout",
     "output_type": "stream",
     "text": [
      "pYTHON pROGRAMMING BY aLEX\n"
     ]
    }
   ],
   "source": [
    "##Changing case\n",
    "l=\"\"\n",
    "for i in str:\n",
    "    if i.isupper():\n",
    "        l+=i.lower()\n",
    "    elif i.islower():\n",
    "        l+=i.upper()\n",
    "    else:\n",
    "        l+=i\n",
    "print(l)"
   ]
  },
  {
   "cell_type": "code",
   "execution_count": 46,
   "metadata": {},
   "outputs": [
    {
     "name": "stdout",
     "output_type": "stream",
     "text": [
      "Python\n",
      "Programming\n",
      "by\n",
      "Not Title Case\n"
     ]
    }
   ],
   "source": [
    "##Title Case check\n",
    "l=\"\"\n",
    "flag = False\n",
    "for i in str:\n",
    "    if i != \" \":\n",
    "        l+=i\n",
    "    else:\n",
    "        print(l)\n",
    "        if l and l[0].islower() :\n",
    "            print(\"Not Title Case\")\n",
    "            flag = True\n",
    "            break\n",
    "        l=\"\"\n",
    "if flag == False:\n",
    "    print(\"Title Case\")      \n",
    "        "
   ]
  },
  {
   "cell_type": "code",
   "execution_count": 2,
   "metadata": {},
   "outputs": [
    {
     "name": "stdout",
     "output_type": "stream",
     "text": [
      "Python Progra**ing by alex\n",
      "xela yb gnimmargorP nohtyP\n",
      "Pto rgamn yae\n",
      "xl bgimroPnhy\n",
      "4\n",
      "2\n",
      "PYTHON PROGRAMMING BY ALEX\n"
     ]
    }
   ],
   "source": [
    "print(str.replace(\"m\",\"*\"))\n",
    "print(str[::-1])\n",
    "print(str[::2])\n",
    "print(str[-1::-2])\n",
    "print(str.find(\"on\"))\n",
    "print(str.find(\"t\"))\n",
    "print(str.upper())"
   ]
  },
  {
   "cell_type": "code",
   "execution_count": null,
   "metadata": {},
   "outputs": [
    {
     "name": "stdout",
     "output_type": "stream",
     "text": [
      "Palindrome\n"
     ]
    }
   ],
   "source": [
    "##Palindorme check\n",
    "str = input(\"Enter a string: \")\n",
    "if str == str[::-1]:\n",
    "    print(\"Palindrome\")\n",
    "else:\n",
    "    print(\"Not Palindrome\")\n"
   ]
  },
  {
   "cell_type": "code",
   "execution_count": null,
   "metadata": {},
   "outputs": [
    {
     "name": "stdout",
     "output_type": "stream",
     "text": [
      "malayalam\n",
      "racecar\n",
      "mom\n"
     ]
    }
   ],
   "source": [
    "##String palindrom\n",
    "str = input(\"Enter a string: \")\n",
    "words = str.split()\n",
    "for i in words:\n",
    "    if i == i[::-1]:\n",
    "        print(i)"
   ]
  },
  {
   "cell_type": "code",
   "execution_count": null,
   "metadata": {},
   "outputs": [
    {
     "name": "stdout",
     "output_type": "stream",
     "text": [
      "Vowels:  3\n",
      "Consonants:  24\n",
      "Digits:  0\n"
     ]
    }
   ],
   "source": [
    "##Counting vowels, consonants, digits and special characters\n",
    "str = input(\"Enter a string: \")\n",
    "vowels = 0\n",
    "consonants = 0\n",
    "digits = 0\n",
    "\n",
    "for i in str:\n",
    "    if i in \"aeiouAEIOU\":\n",
    "        vowels+=1\n",
    "    elif i in string.ascii_letters:\n",
    "        consonants+=1\n",
    "    elif i in string.digits:\n",
    "        digits+=1\n",
    "    else:\n",
    "        pass\n",
    "print(\"Vowels: \",vowels)\n",
    "print(\"Consonants: \",consonants)\n",
    "print(\"Digits: \",digits)\n"
   ]
  },
  {
   "cell_type": "code",
   "execution_count": null,
   "metadata": {},
   "outputs": [
    {
     "name": "stdout",
     "output_type": "stream",
     "text": [
      "12\n"
     ]
    }
   ],
   "source": [
    "##Binary to decimal\n",
    "binary = input(\"Enter a binary number: \")\n",
    "decimal =0\n",
    "for i in range(len(binary)):\n",
    "    decimal+= int(binary[i]) * 2**(len(binary)-1-i)\n",
    "print(decimal)"
   ]
  },
  {
   "cell_type": "code",
   "execution_count": 1,
   "metadata": {},
   "outputs": [
    {
     "name": "stdout",
     "output_type": "stream",
     "text": [
      "10011010010\n"
     ]
    }
   ],
   "source": [
    "##Decimal to binary\n",
    "decimal = int(input(\"Enter a decimal number: \"))\n",
    "binary = \"\"\n",
    "while decimal > 0:\n",
    "    binary = str(decimal%2) + binary\n",
    "    decimal = decimal//2\n",
    "print(binary)"
   ]
  },
  {
   "cell_type": "code",
   "execution_count": 22,
   "metadata": {},
   "outputs": [
    {
     "name": "stdout",
     "output_type": "stream",
     "text": [
      "heyy\n",
      "this\n",
      "most\n",
      "they\n"
     ]
    }
   ],
   "source": [
    "##Read a string and print 4 letter words\n",
    "strg = input(\"Enter a string: \")\n",
    "words = strg.split()\n",
    "for i in words:\n",
    "    if len(i) == 4:\n",
    "        print(i)"
   ]
  },
  {
   "cell_type": "code",
   "execution_count": 23,
   "metadata": {},
   "outputs": [
    {
     "name": "stdout",
     "output_type": "stream",
     "text": [
      "3.6666666666666665\n"
     ]
    }
   ],
   "source": [
    "##Average word length\n",
    "strg = input(\"Enter a string: \")\n",
    "words = strg.split()\n",
    "sum = 0\n",
    "for i in words:\n",
    "    sum+=len(i)\n",
    "print(sum/len(words))"
   ]
  },
  {
   "cell_type": "code",
   "execution_count": 26,
   "metadata": {},
   "outputs": [
    {
     "name": "stdout",
     "output_type": "stream",
     "text": [
      "doha\n"
     ]
    }
   ],
   "source": [
    "##Ceaser cipher (key = 3)\n",
    "strg = input(\"Enter a string: \")\n",
    "cipher = \"\"\n",
    "for i in strg:\n",
    "    if i== \"x\":\n",
    "        cipher+=\"a\"\n",
    "    elif i == \"y\":\n",
    "        cipher+=\"b\"\n",
    "    elif i == \"z\":\n",
    "        cipher+=\"c\"\n",
    "    else:\n",
    "        cipher+=chr(ord(i)+3)\n",
    "print(cipher)"
   ]
  },
  {
   "cell_type": "code",
   "execution_count": 27,
   "metadata": {},
   "outputs": [
    {
     "name": "stdout",
     "output_type": "stream",
     "text": [
      "Password must be atleast 8 characters long\n",
      "Password must have atleast one uppercase letter\n",
      "Password must have atleast one digit\n",
      "Password must have atleast one of '@', '#', '$'\n",
      "Password is invalid\n"
     ]
    }
   ],
   "source": [
    "##password validation\n",
    "password = input(\"Enter a password: \")\n",
    "flag = True\n",
    "\n",
    "if len(password) < 8:\n",
    "    print(\"Password must be atleast 8 characters long\")\n",
    "    flag = False\n",
    "if not any(i.isupper() for i in password):\n",
    "    print(\"Password must have atleast one uppercase letter\")\n",
    "    flag = False\n",
    "if not any(i.islower() for i in password):\n",
    "    print(\"Password must have atleast one lowercase letter\")\n",
    "    flag = False\n",
    "if not any(i.isdigit() for i in password):\n",
    "    print(\"Password must have atleast one digit\")\n",
    "    flag = False\n",
    "if not any (i in \"@#$\" for i in password):\n",
    "    print(\"Password must have atleast one of '@', '#', '$'\")\n",
    "    flag = False\n",
    "if flag:\n",
    "    print(\"Password is valid\")\n",
    "else:\n",
    "    print(\"Password is invalid\")\n"
   ]
  },
  {
   "cell_type": "code",
   "execution_count": null,
   "metadata": {},
   "outputs": [],
   "source": []
  }
 ],
 "metadata": {
  "kernelspec": {
   "display_name": "Python 3",
   "language": "python",
   "name": "python3"
  },
  "language_info": {
   "codemirror_mode": {
    "name": "ipython",
    "version": 3
   },
   "file_extension": ".py",
   "mimetype": "text/x-python",
   "name": "python",
   "nbconvert_exporter": "python",
   "pygments_lexer": "ipython3",
   "version": "3.12.7"
  }
 },
 "nbformat": 4,
 "nbformat_minor": 2
}

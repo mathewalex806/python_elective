{
 "cells": [
  {
   "cell_type": "code",
   "execution_count": 2,
   "metadata": {},
   "outputs": [],
   "source": [
    "F=open(\"old.txt\",\"r\")\n",
    "F1=open(\"new.txt\",\"w\")\n",
    "txt=F.read()\n",
    "F1.write(txt)\n",
    "F.close()\n",
    "F1.close()"
   ]
  },
  {
   "cell_type": "code",
   "execution_count": 3,
   "metadata": {},
   "outputs": [],
   "source": [
    "F=open(\"old.txt\",\"r\")\n",
    "F1=open(\"new.txt\",\"w\")\n",
    "L=F.readlines()\n",
    "Lines = [line for line in L if line != \"\\n\"]\n",
    "F1.writelines(Lines)\n",
    "F.close()\n",
    "F1.close()"
   ]
  },
  {
   "cell_type": "code",
   "execution_count": 4,
   "metadata": {},
   "outputs": [
    {
     "name": "stdout",
     "output_type": "stream",
     "text": [
      "Random : 6\n",
      "content : 7\n",
      "in : 2\n",
      "this : 4\n",
      "file : 4\n",
      "i : 1\n",
      "like : 4\n",
      "typing. : 7\n"
     ]
    }
   ],
   "source": [
    "F=open(\"old.txt\",\"r\")\n",
    "s=F.read()\n",
    "L=s.split(\" \")\n",
    "for word in L:\n",
    "    print(f\"{word} : {len(word)}\")\n",
    "F.close()"
   ]
  },
  {
   "cell_type": "code",
   "execution_count": null,
   "metadata": {},
   "outputs": [],
   "source": []
  },
  {
   "cell_type": "code",
   "execution_count": null,
   "metadata": {},
   "outputs": [],
   "source": []
  },
  {
   "cell_type": "code",
   "execution_count": null,
   "metadata": {},
   "outputs": [],
   "source": []
  },
  {
   "cell_type": "code",
   "execution_count": null,
   "metadata": {},
   "outputs": [],
   "source": []
  }
 ],
 "metadata": {
  "kernelspec": {
   "display_name": "Python 3",
   "language": "python",
   "name": "python3"
  },
  "language_info": {
   "codemirror_mode": {
    "name": "ipython",
    "version": 3
   },
   "file_extension": ".py",
   "mimetype": "text/x-python",
   "name": "python",
   "nbconvert_exporter": "python",
   "pygments_lexer": "ipython3",
   "version": "3.12.7"
  }
 },
 "nbformat": 4,
 "nbformat_minor": 2
}

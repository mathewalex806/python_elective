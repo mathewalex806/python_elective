{
 "cells": [
  {
   "cell_type": "code",
   "execution_count": 1,
   "metadata": {},
   "outputs": [
    {
     "name": "stdout",
     "output_type": "stream",
     "text": [
      "Binary Equivalent of Hex is : 0001001010101011\n"
     ]
    }
   ],
   "source": [
    "D={'1':\"0001\",'2':\"0010\",'3':\"0011\",'4':\"0100\",'5':\"0101\",'6':\"0110\",'7':\"0111\",'8':\"1000\",'9':\"1001\",'A':\"1010\",'B':\"1011\",'C':\"1100\",'D':\"1101\",'E':\"1110\",'F':\"1111\"}\n",
    "hex = input (\"Enter a Hexadesimal number :\")\n",
    "bin = \"\"\n",
    "for h in hex:\n",
    "    bin = bin + D[h]\n",
    "print(f\"Binary Equivalent of Hex is : {bin}\")"
   ]
  },
  {
   "cell_type": "code",
   "execution_count": 2,
   "metadata": {},
   "outputs": [
    {
     "name": "stdout",
     "output_type": "stream",
     "text": [
      "{1: 10, 0: 5}\n"
     ]
    }
   ],
   "source": [
    "import random\n",
    "D={}\n",
    "div = random.randint(2,7)\n",
    "for i in range(15):\n",
    "    num=random.randint(0,1000)\n",
    "    rem=num%div\n",
    "    D[rem]=D.get(rem,0)+1\n",
    "print(D)"
   ]
  },
  {
   "cell_type": "code",
   "execution_count": 3,
   "metadata": {},
   "outputs": [
    {
     "name": "stdout",
     "output_type": "stream",
     "text": [
      "{41: 1681, 0: 0, 99: 9801, 21: 441, 6: 36, 85: 7225, 18: 324, 25: 625, 69: 4761, 100: 10000}\n"
     ]
    }
   ],
   "source": [
    "\n",
    "D={}\n",
    "for i in range (10):\n",
    "    num = random.randint(0,100)\n",
    "    D[num] = num**2\n",
    "print(D)"
   ]
  },
  {
   "cell_type": "code",
   "execution_count": 4,
   "metadata": {},
   "outputs": [
    {
     "name": "stdout",
     "output_type": "stream",
     "text": [
      "{'H': 1, 'e': 1, 'l': 3, 'o': 2, ' ': 1, 'w': 1, 'r': 1, 'd': 1}\n"
     ]
    }
   ],
   "source": [
    "s = input(\"Enter a string : \")\n",
    "D={}\n",
    "for c in s:\n",
    "    D[c] = D.get(c,0) + 1\n",
    "print(D)"
   ]
  },
  {
   "cell_type": "code",
   "execution_count": 5,
   "metadata": {},
   "outputs": [
    {
     "name": "stdout",
     "output_type": "stream",
     "text": [
      "{'Python': 1, 'is': 1, 'a': 1, 'programiing': 1, 'language': 1, '': 1}\n"
     ]
    }
   ],
   "source": [
    "s = input(\"Enter a string : \")\n",
    "s=s.replace(\",\",\"\")\n",
    "s=s.replace(\".\",\"\")\n",
    "L=s.split(\" \")\n",
    "D={}\n",
    "for word in L:\n",
    "    D[word]=D.get(word,0)+1\n",
    "print(D)\n"
   ]
  },
  {
   "cell_type": "code",
   "execution_count": null,
   "metadata": {},
   "outputs": [],
   "source": []
  }
 ],
 "metadata": {
  "kernelspec": {
   "display_name": "Python 3",
   "language": "python",
   "name": "python3"
  },
  "language_info": {
   "codemirror_mode": {
    "name": "ipython",
    "version": 3
   },
   "file_extension": ".py",
   "mimetype": "text/x-python",
   "name": "python",
   "nbconvert_exporter": "python",
   "pygments_lexer": "ipython3",
   "version": "3.12.7"
  }
 },
 "nbformat": 4,
 "nbformat_minor": 2
}

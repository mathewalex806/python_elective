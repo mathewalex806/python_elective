{
 "cells": [
  {
   "cell_type": "code",
   "execution_count": 1,
   "metadata": {},
   "outputs": [
    {
     "name": "stdout",
     "output_type": "stream",
     "text": [
      "15\n",
      "43\n",
      "58\n"
     ]
    }
   ],
   "source": [
    "f1=lambda x:x^2+3*x+5\n",
    "print(f1(2))\n",
    "f2=lambda x,y:x^2*y+5*x*y+6\n",
    "print(f2(3,2))\n",
    "print(f1(2)+f2(3,2))"
   ]
  },
  {
   "cell_type": "code",
   "execution_count": 3,
   "metadata": {},
   "outputs": [
    {
     "name": "stdout",
     "output_type": "stream",
     "text": [
      "[(1, 'Dev'), (2, 'Jojo'), (3, 'Bob')]\n",
      "[(3, 'Bob'), (1, 'Dev'), (2, 'Jojo')]\n"
     ]
    }
   ],
   "source": [
    "L=[(1,'Dev'),(3,'Bob'),(2,'Jojo')]\n",
    "\n",
    "sortedRNo = sorted(L, key=lambda x:x[0])\n",
    "print(sortedRNo)\n",
    "\n",
    "sortedNm = sorted(L, key=lambda x:x[1])\n",
    "print(sortedNm)"
   ]
  },
  {
   "cell_type": "code",
   "execution_count": 4,
   "metadata": {},
   "outputs": [
    {
     "name": "stdout",
     "output_type": "stream",
     "text": [
      "List of odd numbers: [1, 3, 5, 7, 9, 11, 13, 15, 17, 19, 21, 23, 25, 27, 29, 31, 33, 35, 37, 39, 41, 43, 45, 47, 49]\n",
      "Cubes of numbers: [1, 27, 125, 343, 729, 1331, 2197, 3375, 4913, 6859, 9261, 12167, 15625, 19683, 24389, 29791, 35937, 42875, 50653, 59319, 68921, 79507, 91125, 103823, 117649]\n",
      "Numbers divisible by 3: [3, 9, 15, 21, 27, 33, 39, 45]\n"
     ]
    }
   ],
   "source": [
    "odds = [x for x in range(1,50,2)]\n",
    "print(\"List of odd numbers:\", odds)\n",
    "\n",
    "cubes = list(map(lambda x:x**3, odds))\n",
    "print(\"Cubes of numbers:\", cubes)\n",
    "\n",
    "divBy = list(filter(lambda x:x%3==0, odds))\n",
    "print(\"Numbers divisible by 3:\", divBy)"
   ]
  },
  {
   "cell_type": "code",
   "execution_count": 5,
   "metadata": {},
   "outputs": [
    {
     "name": "stdout",
     "output_type": "stream",
     "text": [
      "[2, 3, 5, 7, 11, 13, 17, 19, 23, 29, 31, 37, 41, 43, 47, 53, 59, 61, 67, 71, 73, 79, 83, 89, 97]\n"
     ]
    }
   ],
   "source": [
    "def prime(n):\n",
    "   if n < 2:\n",
    "       return False\n",
    "   for i in range(2,n):\n",
    "    if n%i == 0:\n",
    "            return False\n",
    "   return True\n",
    "primeNumbers=[num for num in range(1,100) if prime(num)]\n",
    "print(primeNumbers)"
   ]
  },
  {
   "cell_type": "code",
   "execution_count": 6,
   "metadata": {},
   "outputs": [
    {
     "name": "stdout",
     "output_type": "stream",
     "text": [
      "nCr is: 252.0\n"
     ]
    }
   ],
   "source": [
    "def factorial(n):\n",
    "    if n==0 or n==1:\n",
    "        return 1\n",
    "    else:\n",
    "        return n*factorial(n-1)\n",
    "def nCr(n,r):\n",
    "    return factorial(n)/(factorial(r)*factorial(n-r))\n",
    "n=input(\"Enter the value of n:\")\n",
    "r=input(\"Enter the value of r:\")\n",
    "print(\"nCr is:\", nCr(int(n),int(r)))"
   ]
  },
  {
   "cell_type": "code",
   "execution_count": 7,
   "metadata": {},
   "outputs": [
    {
     "name": "stdout",
     "output_type": "stream",
     "text": [
      "Fibonacci series:\n",
      "0 1 1 2 3 5 8 "
     ]
    }
   ],
   "source": [
    "def fib(n):\n",
    "    if n<=1:\n",
    "        return n\n",
    "    else:\n",
    "        return fib(n-1)+fib(n-2)\n",
    "n=int(input(\"Enter the value of n:\"))\n",
    "print(\"Fibonacci series:\")\n",
    "for i in range(n):\n",
    "    print(fib(i),end=\" \")"
   ]
  },
  {
   "cell_type": "code",
   "execution_count": 8,
   "metadata": {},
   "outputs": [
    {
     "name": "stdout",
     "output_type": "stream",
     "text": [
      "Sum of digits of the number is: 4\n"
     ]
    }
   ],
   "source": [
    "def sumOfDigitsOfNumber(n):\n",
    "    if n<10:\n",
    "        return n\n",
    "    else:\n",
    "        return n%10+sumOfDigitsOfNumber(n//10)\n",
    "n=int(input(\"Enter the number:\"))\n",
    "print(\"Sum of digits of the number is:\",sumOfDigitsOfNumber(n))"
   ]
  },
  {
   "cell_type": "code",
   "execution_count": 9,
   "metadata": {},
   "outputs": [
    {
     "name": "stdout",
     "output_type": "stream",
     "text": [
      "10\n"
     ]
    }
   ],
   "source": [
    "def largest(*nums):\n",
    "    return max(nums)\n",
    "nums=[1,2,3,4,5,6,7,8,9,10]\n",
    "print(largest(*nums))"
   ]
  },
  {
   "cell_type": "code",
   "execution_count": 10,
   "metadata": {},
   "outputs": [
    {
     "name": "stdout",
     "output_type": "stream",
     "text": [
      "BCD of 7 is: 0111 \n"
     ]
    }
   ],
   "source": [
    "def binary(n):\n",
    "    if n == 0:\n",
    "        return \"0000\"\n",
    "    bin = \"\"\n",
    "    while n > 0:\n",
    "        bin = str(n % 2) + bin\n",
    "        n = n // 2\n",
    "    while len(bin) < 4:\n",
    "        bin = \"0\" + bin\n",
    "    return bin\n",
    "\n",
    "def bcd(num):\n",
    "    digits = str(num)\n",
    "    result = \"\"\n",
    "    for digit in digits:\n",
    "        result += binary(int(digit)) + \" \"\n",
    "    return result\n",
    "number = int(input(\"Enter a number: \"))\n",
    "print(f\"BCD of {number} is: {bcd(number)}\")"
   ]
  },
  {
   "cell_type": "code",
   "execution_count": 11,
   "metadata": {},
   "outputs": [
    {
     "name": "stdout",
     "output_type": "stream",
     "text": [
      "Sum of cosine series for x=5.0 with 4 terms is: -7.159722222222221\n"
     ]
    }
   ],
   "source": [
    "def fact(n):\n",
    "    if n == 0 or n == 1:\n",
    "        return 1\n",
    "    else:\n",
    "        return n * fact(n-1)\n",
    "\n",
    "def pow(x, n):\n",
    "    if n == 0:\n",
    "        return 1\n",
    "    else:\n",
    "        return x * pow(x, n-1)\n",
    "\n",
    "def cos_series(x, n):\n",
    "    sum = 0\n",
    "    for i in range(n):\n",
    "        term = pow(-1, i) * pow(x, 2*i) / fact(2*i)\n",
    "        sum += term\n",
    "    return sum\n",
    "\n",
    "\n",
    "x = float(input(\"Enter value of x: \"))\n",
    "n = int(input(\"Enter number of terms: \"))\n",
    "result = cos_series(x, n)\n",
    "print(f\"Sum of cosine series for x={x} with {n} terms is: {result}\")"
   ]
  },
  {
   "cell_type": "code",
   "execution_count": null,
   "metadata": {},
   "outputs": [],
   "source": []
  }
 ],
 "metadata": {
  "kernelspec": {
   "display_name": "Python 3",
   "language": "python",
   "name": "python3"
  },
  "language_info": {
   "codemirror_mode": {
    "name": "ipython",
    "version": 3
   },
   "file_extension": ".py",
   "mimetype": "text/x-python",
   "name": "python",
   "nbconvert_exporter": "python",
   "pygments_lexer": "ipython3",
   "version": "3.12.7"
  }
 },
 "nbformat": 4,
 "nbformat_minor": 2
}

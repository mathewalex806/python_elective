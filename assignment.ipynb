{
 "cells": [
  {
   "cell_type": "code",
   "execution_count": 1,
   "metadata": {},
   "outputs": [],
   "source": [
    "import string"
   ]
  },
  {
   "cell_type": "code",
   "execution_count": 44,
   "metadata": {},
   "outputs": [],
   "source": [
    "str=\"Python Programming by Yourname\"\n",
    "str_input = input(\"Enter your name: \")\n",
    "str = str.replace(\"Yourname\",str_input)"
   ]
  },
  {
   "cell_type": "code",
   "execution_count": null,
   "metadata": {},
   "outputs": [
    {
     "name": "stdout",
     "output_type": "stream",
     "text": [
      " Alex\n",
      "on Pr\n",
      "26\n",
      "Python Programming by \n",
      "on Programming by Alex\n",
      "10\n",
      "pYTHON pROGRAMMING BY aLEX\n",
      "Python\n",
      "Title Case\n"
     ]
    }
   ],
   "source": [
    "##String Slicing\n",
    "print(str[-5:])\n",
    "print(str[4:9])\n",
    "print(len(str))\n",
    "min(str)\n",
    "max(str)\n",
    "print(str[:-4])\n",
    "print(str[4:])\n",
    "print(str.find(\"gr\"))"
   ]
  },
  {
   "cell_type": "code",
   "execution_count": 45,
   "metadata": {},
   "outputs": [
    {
     "name": "stdout",
     "output_type": "stream",
     "text": [
      "pYTHON pROGRAMMING BY aLEX\n"
     ]
    }
   ],
   "source": [
    "##Changing case\n",
    "l=\"\"\n",
    "for i in str:\n",
    "    if i.isupper():\n",
    "        l+=i.lower()\n",
    "    elif i.islower():\n",
    "        l+=i.upper()\n",
    "    else:\n",
    "        l+=i\n",
    "print(l)"
   ]
  },
  {
   "cell_type": "code",
   "execution_count": 46,
   "metadata": {},
   "outputs": [
    {
     "name": "stdout",
     "output_type": "stream",
     "text": [
      "Python\n",
      "Programming\n",
      "by\n",
      "Not Title Case\n"
     ]
    }
   ],
   "source": [
    "##Title Case check\n",
    "l=\"\"\n",
    "flag = False\n",
    "for i in str:\n",
    "    if i != \" \":\n",
    "        l+=i\n",
    "    else:\n",
    "        print(l)\n",
    "        if l and l[0].islower() :\n",
    "            print(\"Not Title Case\")\n",
    "            flag = True\n",
    "            break\n",
    "        l=\"\"\n",
    "if flag == False:\n",
    "    print(\"Title Case\")      \n",
    "        "
   ]
  },
  {
   "cell_type": "code",
   "execution_count": 59,
   "metadata": {},
   "outputs": [
    {
     "name": "stdout",
     "output_type": "stream",
     "text": [
      "Python Progra**ing by Alex\n",
      "xelA yb gnimmargorP nohtyP\n",
      "Pto rgamn yAe\n",
      "xl bgimroPnhy\n",
      "4\n",
      "2\n",
      "PYTHON PROGRAMMING BY ALEX\n"
     ]
    }
   ],
   "source": [
    "print(str.replace(\"m\",\"*\"))\n",
    "print(str[::-1])\n",
    "print(str[::2])\n",
    "print(str[-1::-2])\n",
    "print(str.find(\"on\"))\n",
    "print(str.find(\"t\"))\n",
    "print(str.upper())"
   ]
  },
  {
   "cell_type": "code",
   "execution_count": 48,
   "metadata": {},
   "outputs": [
    {
     "name": "stdout",
     "output_type": "stream",
     "text": [
      "xelA yb gnimmargorP nohtyP\n"
     ]
    }
   ],
   "source": []
  },
  {
   "cell_type": "code",
   "execution_count": null,
   "metadata": {},
   "outputs": [],
   "source": []
  }
 ],
 "metadata": {
  "kernelspec": {
   "display_name": "Python 3 (ipykernel)",
   "language": "python",
   "name": "python3"
  },
  "language_info": {
   "codemirror_mode": {
    "name": "ipython",
    "version": 3
   },
   "file_extension": ".py",
   "mimetype": "text/x-python",
   "name": "python",
   "nbconvert_exporter": "python",
   "pygments_lexer": "ipython3",
   "version": "3.12.7"
  }
 },
 "nbformat": 4,
 "nbformat_minor": 2
}
